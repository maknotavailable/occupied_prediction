{
 "cells": [
  {
   "cell_type": "markdown",
   "metadata": {},
   "source": [
    "# [Room Occupancy] Ensemble\n",
    "\n",
    "Note: the current ensembling technique does not make a lot of sense, as multiplying any boolean score by the weight and adding will always favor 1 or the score of the higher weighted model. However, this can be considered as a placeholder for later development - or the forcasting (yhat) result could be used in the classifer as input variable."
   ]
  },
  {
   "cell_type": "markdown",
   "metadata": {},
   "source": [
    "### Prepare Workspace"
   ]
  },
  {
   "cell_type": "code",
   "execution_count": 1,
   "metadata": {},
   "outputs": [
    {
     "name": "stderr",
     "output_type": "stream",
     "text": [
      "ERROR:fbprophet:Importing plotly failed. Interactive plots will not work.\n"
     ]
    }
   ],
   "source": [
    "import sys\n",
    "import pickle\n",
    "import pandas as pd\n",
    "import matplotlib.pyplot as plt\n",
    "from sklearn.metrics import precision_recall_fscore_support\n",
    "\n",
    "from fbprophet import Prophet\n",
    "from fbprophet.diagnostics import cross_validation, performance_metrics\n",
    "from fbprophet.plot import plot_cross_validation_metric\n",
    "\n",
    "from numpy import loadtxt\n",
    "from xgboost import XGBClassifier\n",
    "from sklearn.model_selection import train_test_split\n",
    "from sklearn.metrics import accuracy_score\n",
    "\n",
    "import warnings\n",
    "warnings.filterwarnings(\"ignore\", category=FutureWarning)\n",
    "\n",
    "sys.path.append('../code')\n",
    "import prepare as pr"
   ]
  },
  {
   "cell_type": "code",
   "execution_count": 2,
   "metadata": {},
   "outputs": [],
   "source": [
    "%matplotlib inline\n",
    "%load_ext autoreload\n",
    "%autoreload 2"
   ]
  },
  {
   "cell_type": "code",
   "execution_count": 3,
   "metadata": {},
   "outputs": [],
   "source": [
    "data_dir = 'C:/Users/makayser/Desktop/wattx_local/'\n",
    "fn_prepared = 'prepared.csv'"
   ]
  },
  {
   "cell_type": "markdown",
   "metadata": {},
   "source": [
    "### Prepare Data"
   ]
  },
  {
   "cell_type": "code",
   "execution_count": 4,
   "metadata": {},
   "outputs": [],
   "source": [
    "df = pd.read_csv(data_dir + fn_prepared)\n",
    "df['timestamp'] = pd.to_datetime(df['timestamp'])\n",
    "tuples = list(zip(df['device'],df['timestamp']))\n",
    "df.index = pd.MultiIndex.from_tuples(tuples, names=['device', 'timestamp'])"
   ]
  },
  {
   "cell_type": "code",
   "execution_count": 5,
   "metadata": {},
   "outputs": [
    {
     "data": {
      "text/plain": [
       "device                       int64\n",
       "timestamp           datetime64[ns]\n",
       "device.1                     int64\n",
       "device_activated             int64\n",
       "timestamp.1                 object\n",
       "occupied                     int64\n",
       "weekday                      int64\n",
       "timeperiod                   int64\n",
       "time                        object\n",
       "dtype: object"
      ]
     },
     "execution_count": 5,
     "metadata": {},
     "output_type": "execute_result"
    }
   ],
   "source": [
    "df.dtypes"
   ]
  },
  {
   "cell_type": "code",
   "execution_count": 6,
   "metadata": {},
   "outputs": [
    {
     "data": {
      "text/html": [
       "<div>\n",
       "<style scoped>\n",
       "    .dataframe tbody tr th:only-of-type {\n",
       "        vertical-align: middle;\n",
       "    }\n",
       "\n",
       "    .dataframe tbody tr th {\n",
       "        vertical-align: top;\n",
       "    }\n",
       "\n",
       "    .dataframe thead th {\n",
       "        text-align: right;\n",
       "    }\n",
       "</style>\n",
       "<table border=\"1\" class=\"dataframe\">\n",
       "  <thead>\n",
       "    <tr style=\"text-align: right;\">\n",
       "      <th></th>\n",
       "      <th></th>\n",
       "      <th>device</th>\n",
       "      <th>timestamp</th>\n",
       "      <th>device.1</th>\n",
       "      <th>device_activated</th>\n",
       "      <th>timestamp.1</th>\n",
       "      <th>occupied</th>\n",
       "      <th>weekday</th>\n",
       "      <th>timeperiod</th>\n",
       "      <th>time</th>\n",
       "    </tr>\n",
       "    <tr>\n",
       "      <th>device</th>\n",
       "      <th>timestamp</th>\n",
       "      <th></th>\n",
       "      <th></th>\n",
       "      <th></th>\n",
       "      <th></th>\n",
       "      <th></th>\n",
       "      <th></th>\n",
       "      <th></th>\n",
       "      <th></th>\n",
       "      <th></th>\n",
       "    </tr>\n",
       "  </thead>\n",
       "  <tbody>\n",
       "    <tr>\n",
       "      <th rowspan=\"5\" valign=\"top\">1</th>\n",
       "      <th>2016-07-25 16:00:00</th>\n",
       "      <td>1</td>\n",
       "      <td>2016-07-25 16:00:00</td>\n",
       "      <td>1</td>\n",
       "      <td>6</td>\n",
       "      <td>2016-07-25 16:00:00</td>\n",
       "      <td>1</td>\n",
       "      <td>1</td>\n",
       "      <td>4</td>\n",
       "      <td>16:00</td>\n",
       "    </tr>\n",
       "    <tr>\n",
       "      <th>2016-07-25 17:00:00</th>\n",
       "      <td>1</td>\n",
       "      <td>2016-07-25 17:00:00</td>\n",
       "      <td>1</td>\n",
       "      <td>0</td>\n",
       "      <td>2016-07-25 17:00:00</td>\n",
       "      <td>0</td>\n",
       "      <td>1</td>\n",
       "      <td>4</td>\n",
       "      <td>17:00</td>\n",
       "    </tr>\n",
       "    <tr>\n",
       "      <th>2016-07-25 18:00:00</th>\n",
       "      <td>1</td>\n",
       "      <td>2016-07-25 18:00:00</td>\n",
       "      <td>1</td>\n",
       "      <td>0</td>\n",
       "      <td>2016-07-25 18:00:00</td>\n",
       "      <td>0</td>\n",
       "      <td>1</td>\n",
       "      <td>4</td>\n",
       "      <td>18:00</td>\n",
       "    </tr>\n",
       "    <tr>\n",
       "      <th>2016-07-25 19:00:00</th>\n",
       "      <td>1</td>\n",
       "      <td>2016-07-25 19:00:00</td>\n",
       "      <td>1</td>\n",
       "      <td>0</td>\n",
       "      <td>2016-07-25 19:00:00</td>\n",
       "      <td>0</td>\n",
       "      <td>1</td>\n",
       "      <td>4</td>\n",
       "      <td>19:00</td>\n",
       "    </tr>\n",
       "    <tr>\n",
       "      <th>2016-07-25 20:00:00</th>\n",
       "      <td>1</td>\n",
       "      <td>2016-07-25 20:00:00</td>\n",
       "      <td>1</td>\n",
       "      <td>0</td>\n",
       "      <td>2016-07-25 20:00:00</td>\n",
       "      <td>0</td>\n",
       "      <td>1</td>\n",
       "      <td>0</td>\n",
       "      <td>20:00</td>\n",
       "    </tr>\n",
       "  </tbody>\n",
       "</table>\n",
       "</div>"
      ],
      "text/plain": [
       "                            device           timestamp  device.1  \\\n",
       "device timestamp                                                   \n",
       "1      2016-07-25 16:00:00       1 2016-07-25 16:00:00         1   \n",
       "       2016-07-25 17:00:00       1 2016-07-25 17:00:00         1   \n",
       "       2016-07-25 18:00:00       1 2016-07-25 18:00:00         1   \n",
       "       2016-07-25 19:00:00       1 2016-07-25 19:00:00         1   \n",
       "       2016-07-25 20:00:00       1 2016-07-25 20:00:00         1   \n",
       "\n",
       "                            device_activated          timestamp.1  occupied  \\\n",
       "device timestamp                                                              \n",
       "1      2016-07-25 16:00:00                 6  2016-07-25 16:00:00         1   \n",
       "       2016-07-25 17:00:00                 0  2016-07-25 17:00:00         0   \n",
       "       2016-07-25 18:00:00                 0  2016-07-25 18:00:00         0   \n",
       "       2016-07-25 19:00:00                 0  2016-07-25 19:00:00         0   \n",
       "       2016-07-25 20:00:00                 0  2016-07-25 20:00:00         0   \n",
       "\n",
       "                            weekday  timeperiod   time  \n",
       "device timestamp                                        \n",
       "1      2016-07-25 16:00:00        1           4  16:00  \n",
       "       2016-07-25 17:00:00        1           4  17:00  \n",
       "       2016-07-25 18:00:00        1           4  18:00  \n",
       "       2016-07-25 19:00:00        1           4  19:00  \n",
       "       2016-07-25 20:00:00        1           0  20:00  "
      ]
     },
     "execution_count": 6,
     "metadata": {},
     "output_type": "execute_result"
    }
   ],
   "source": [
    "df.head()"
   ]
  },
  {
   "cell_type": "code",
   "execution_count": 7,
   "metadata": {},
   "outputs": [],
   "source": [
    "with open('../assets/classify.ml','rb') as fn:\n",
    "    m_classify = pickle.load(fn)"
   ]
  },
  {
   "cell_type": "markdown",
   "metadata": {},
   "source": [
    "## Ensemble (Scoring)"
   ]
  },
  {
   "cell_type": "code",
   "execution_count": 8,
   "metadata": {},
   "outputs": [],
   "source": [
    "def validate(train, test, f_target='occupied'):\n",
    "    # FORECASTING\n",
    "    _data_train = pr.format_for_prophet(train[f_target])\n",
    "    _data_test = pr.format_for_prophet(test[f_target])\n",
    "    m = Prophet(yearly_seasonality=False).fit(_data_train)\n",
    "    future = m.make_future_dataframe(periods=24, freq='H')\n",
    "    future['floor'] = 0\n",
    "    fcst = m.predict(future)\n",
    "    print(fcst['yhat'].tail(24).values)\n",
    "    y_hat = fcst['yhat'].tail(24)\n",
    "    f_pred = y_hat.apply(lambda x: pr.translate_score(x)).values\n",
    "    y_true = _data_test['y'].head(24).apply(lambda x: pr.translate_score(x)).values\n",
    "    precision, re, fs, _ = precision_recall_fscore_support(y_true, f_pred, average='weighted')\n",
    "    print(f'[INFO] Forecasting Results \\n\\t Precision:\\t {precision}')\n",
    "    print(f'\\t Recall:\\t {re}')\n",
    "    print(f'\\t F1 Score:\\t {fs}')\n",
    "    \n",
    "    # CLASSIFICATION\n",
    "    #     test['device'] = test['device'].apply(dton)\n",
    "    y_pred = m_classify.predict(test[['device','weekday','timeperiod']].head(24))\n",
    "    c_pred = [round(value) for value in y_pred]\n",
    "    precision, re, fs, _ = precision_recall_fscore_support(y_true, c_pred, average='weighted')\n",
    "    print(f'[INFO] Classification Results \\n\\t Precision:\\t {precision}')\n",
    "    print(f'\\t Recall:\\t {re}')\n",
    "    print(f'\\t F1 Score:\\t {fs}')\n",
    "    \n",
    "    # ENSEMBLE\n",
    "    res = (y_hat*0.4) + (y_pred*0.6)\n",
    "    res = [round(value) for value in res]\n",
    "    precision, re, fs, _ = precision_recall_fscore_support(y_true, res, average='weighted')\n",
    "    print(f'[INFO] Ensemble Results \\n\\t Precision:\\t {precision}')\n",
    "    print(f'\\t Recall:\\t {re}')\n",
    "    print(f'\\t F1 Score:\\t {fs}')\n",
    "    "
   ]
  },
  {
   "cell_type": "code",
   "execution_count": 9,
   "metadata": {},
   "outputs": [
    {
     "name": "stdout",
     "output_type": "stream",
     "text": [
      "[-0.26379966 -0.24177035 -0.24290746 -0.27702511 -0.29845407 -0.2376419\n",
      " -0.06882412  0.15296754  0.32780534  0.39188998  0.36913326  0.34338003\n",
      "  0.37588341  0.44544055  0.46783501  0.37619177  0.18658012 -0.01165301\n",
      " -0.12951668 -0.14613523 -0.11080389 -0.08533571 -0.08800502 -0.0920123 ]\n",
      "[INFO] Forecasting Results \n",
      "\t Precision:\t 1.0\n",
      "\t Recall:\t 1.0\n",
      "\t F1 Score:\t 1.0\n",
      "[INFO] Classification Results \n",
      "\t Precision:\t 1.0\n",
      "\t Recall:\t 1.0\n",
      "\t F1 Score:\t 1.0\n",
      "[INFO] Ensemble Results \n",
      "\t Precision:\t 1.0\n",
      "\t Recall:\t 1.0\n",
      "\t F1 Score:\t 1.0\n"
     ]
    }
   ],
   "source": [
    "tr, te = pr.split(df[df.index.get_level_values('device') == 1])\n",
    "validate(tr, te)"
   ]
  },
  {
   "cell_type": "code",
   "execution_count": 10,
   "metadata": {},
   "outputs": [
    {
     "name": "stdout",
     "output_type": "stream",
     "text": [
      "[0.79156057 0.85147725 0.8277577  0.69475825 0.49522292 0.3093619\n",
      " 0.19890114 0.1721439  0.19315684 0.21863023 0.22688379 0.21918624\n",
      " 0.20394209 0.18751831 0.1806071  0.20564278 0.28671106 0.42427837\n",
      " 0.57992703 0.69371528 0.72707398 0.69547053 0.65816226 0.66853114]\n",
      "[INFO] Forecasting Results \n",
      "\t Precision:\t 0.9017857142857143\n",
      "\t Recall:\t 0.875\n",
      "\t F1 Score:\t 0.8743478260869565\n",
      "[INFO] Classification Results \n",
      "\t Precision:\t 0.8777777777777778\n",
      "\t Recall:\t 0.8333333333333334\n",
      "\t F1 Score:\t 0.8310023310023308\n",
      "[INFO] Ensemble Results \n",
      "\t Precision:\t 0.8777777777777778\n",
      "\t Recall:\t 0.8333333333333334\n",
      "\t F1 Score:\t 0.8310023310023308\n"
     ]
    }
   ],
   "source": [
    "tr, te = pr.split(df[df.index.get_level_values('device') == 2])\n",
    "validate(tr, te)"
   ]
  },
  {
   "cell_type": "code",
   "execution_count": 11,
   "metadata": {},
   "outputs": [
    {
     "name": "stdout",
     "output_type": "stream",
     "text": [
      "[ 1.44120814  1.51919751  1.60303376  1.57408552  1.33749957  0.93605394\n",
      "  0.53784187  0.30322331  0.25570125  0.27848834  0.23631146  0.1015712\n",
      " -0.035953   -0.07777201 -0.02766546  0.01048281 -0.05391524 -0.19056681\n",
      " -0.26007926 -0.13951575  0.15918333  0.49417922  0.71757988  0.79693777]\n",
      "[INFO] Forecasting Results \n",
      "\t Precision:\t 0.8333333333333334\n",
      "\t Recall:\t 0.8333333333333334\n",
      "\t F1 Score:\t 0.8333333333333334\n",
      "[INFO] Classification Results \n",
      "\t Precision:\t 0.8684210526315791\n",
      "\t Recall:\t 0.8333333333333334\n",
      "\t F1 Score:\t 0.8193277310924371\n",
      "[INFO] Ensemble Results \n",
      "\t Precision:\t 0.8684210526315791\n",
      "\t Recall:\t 0.8333333333333334\n",
      "\t F1 Score:\t 0.8193277310924371\n"
     ]
    }
   ],
   "source": [
    "tr, te = pr.split(df[df.index.get_level_values('device') == 3])\n",
    "validate(tr, te, f_target='device_activated')"
   ]
  },
  {
   "cell_type": "code",
   "execution_count": 12,
   "metadata": {},
   "outputs": [
    {
     "name": "stdout",
     "output_type": "stream",
     "text": [
      "[ 0.37513132  0.38206705  0.3814342   0.34578847  0.26869091  0.17678134\n",
      "  0.10854487  0.08082485  0.07632133  0.06397519  0.03105776 -0.00557655\n",
      " -0.01987635 -0.00672515  0.01039742  0.00359478 -0.02722873 -0.04770027\n",
      " -0.01723022  0.07315136  0.18937352  0.2808273   0.32028171  0.32033356]\n",
      "[INFO] Forecasting Results \n",
      "\t Precision:\t 0.390625\n",
      "\t Recall:\t 0.625\n",
      "\t F1 Score:\t 0.4807692307692308\n",
      "[INFO] Classification Results \n",
      "\t Precision:\t 0.8684210526315791\n",
      "\t Recall:\t 0.8333333333333334\n",
      "\t F1 Score:\t 0.8193277310924371\n",
      "[INFO] Ensemble Results \n",
      "\t Precision:\t 0.8684210526315791\n",
      "\t Recall:\t 0.8333333333333334\n",
      "\t F1 Score:\t 0.8193277310924371\n"
     ]
    },
    {
     "name": "stderr",
     "output_type": "stream",
     "text": [
      "C:\\Users\\makayser\\.conda\\envs\\opc\\lib\\site-packages\\sklearn\\metrics\\classification.py:1437: UndefinedMetricWarning: Precision and F-score are ill-defined and being set to 0.0 in labels with no predicted samples.\n",
      "  'precision', 'predicted', average, warn_for)\n"
     ]
    }
   ],
   "source": [
    "tr, te = pr.split(df[df.index.get_level_values('device') == 3])\n",
    "validate(tr, te)"
   ]
  },
  {
   "cell_type": "code",
   "execution_count": 13,
   "metadata": {},
   "outputs": [
    {
     "name": "stdout",
     "output_type": "stream",
     "text": [
      "[ 0.39070401  0.39309331  0.3054347   0.14619752 -0.0153565  -0.11597824\n",
      " -0.14452585 -0.13799232 -0.13803514 -0.15421311 -0.16780585 -0.16519092\n",
      " -0.15961294 -0.17533315 -0.21154927 -0.22859274 -0.17801876 -0.05155746\n",
      "  0.1002044   0.20303625  0.21963652  0.1796626   0.14957099  0.16895148]\n",
      "[INFO] Forecasting Results \n",
      "\t Precision:\t 0.9184027777777778\n",
      "\t Recall:\t 0.9583333333333334\n",
      "\t F1 Score:\t 0.9379432624113475\n",
      "[INFO] Classification Results \n",
      "\t Precision:\t 0.9147727272727274\n",
      "\t Recall:\t 0.875\n",
      "\t F1 Score:\t 0.8944444444444444\n",
      "[INFO] Ensemble Results \n",
      "\t Precision:\t 0.9147727272727274\n",
      "\t Recall:\t 0.875\n",
      "\t F1 Score:\t 0.8944444444444444\n"
     ]
    },
    {
     "name": "stderr",
     "output_type": "stream",
     "text": [
      "C:\\Users\\makayser\\.conda\\envs\\opc\\lib\\site-packages\\sklearn\\metrics\\classification.py:1437: UndefinedMetricWarning: Precision and F-score are ill-defined and being set to 0.0 in labels with no predicted samples.\n",
      "  'precision', 'predicted', average, warn_for)\n"
     ]
    }
   ],
   "source": [
    "tr, te = pr.split(df[df.index.get_level_values('device') == 4])\n",
    "validate(tr, te)"
   ]
  },
  {
   "cell_type": "code",
   "execution_count": 14,
   "metadata": {},
   "outputs": [
    {
     "name": "stdout",
     "output_type": "stream",
     "text": [
      "[0.56904457 0.59825301 0.63577638 0.61877424 0.5151761  0.35586293\n",
      " 0.20957547 0.12652508 0.10398444 0.10232478 0.08977471 0.06897739\n",
      " 0.06166958 0.07351054 0.0813663  0.0595736  0.01736394 0.0039155\n",
      " 0.06853491 0.21084654 0.3707423  0.47265106 0.48623289 0.44759095]\n",
      "[INFO] Forecasting Results \n",
      "\t Precision:\t 1.0\n",
      "\t Recall:\t 0.7916666666666666\n",
      "\t F1 Score:\t 0.8837209302325583\n",
      "[INFO] Classification Results \n",
      "\t Precision:\t 1.0\n",
      "\t Recall:\t 0.8333333333333334\n",
      "\t F1 Score:\t 0.9090909090909091\n",
      "[INFO] Ensemble Results \n",
      "\t Precision:\t 1.0\n",
      "\t Recall:\t 0.8333333333333334\n",
      "\t F1 Score:\t 0.9090909090909091\n"
     ]
    },
    {
     "name": "stderr",
     "output_type": "stream",
     "text": [
      "C:\\Users\\makayser\\.conda\\envs\\opc\\lib\\site-packages\\sklearn\\metrics\\classification.py:1439: UndefinedMetricWarning: Recall and F-score are ill-defined and being set to 0.0 in labels with no true samples.\n",
      "  'recall', 'true', average, warn_for)\n"
     ]
    }
   ],
   "source": [
    "tr, te = pr.split(df[df.index.get_level_values('device') == 5])\n",
    "validate(tr, te)"
   ]
  },
  {
   "cell_type": "code",
   "execution_count": 15,
   "metadata": {},
   "outputs": [
    {
     "name": "stdout",
     "output_type": "stream",
     "text": [
      "[0.86372542 0.86528483 0.80633218 0.68130776 0.50592609 0.31922787\n",
      " 0.17323624 0.10728305 0.12110886 0.17016445 0.19405178 0.16158051\n",
      " 0.09772432 0.06810803 0.12990553 0.28648175 0.4814278  0.63633476\n",
      " 0.702268   0.68627152 0.63691564 0.60546496 0.61397684 0.64944209]\n",
      "[INFO] Forecasting Results \n",
      "\t Precision:\t 0.9166666666666666\n",
      "\t Recall:\t 0.9166666666666666\n",
      "\t F1 Score:\t 0.9166666666666666\n",
      "[INFO] Classification Results \n",
      "\t Precision:\t 0.8776223776223775\n",
      "\t Recall:\t 0.875\n",
      "\t F1 Score:\t 0.8747826086956522\n",
      "[INFO] Ensemble Results \n",
      "\t Precision:\t 0.8776223776223775\n",
      "\t Recall:\t 0.875\n",
      "\t F1 Score:\t 0.8747826086956522\n"
     ]
    }
   ],
   "source": [
    "tr, te = pr.split(df[df.index.get_level_values('device') == 6])\n",
    "validate(tr, te)"
   ]
  },
  {
   "cell_type": "code",
   "execution_count": 16,
   "metadata": {},
   "outputs": [
    {
     "name": "stdout",
     "output_type": "stream",
     "text": [
      "[-0.01557256 -0.00099137 -0.00345905 -0.01769576 -0.02413393 -0.0132791\n",
      "  0.00306858  0.00551728 -0.00934719 -0.0215157  -0.00579518  0.04179592\n",
      "  0.09679545  0.12729741  0.12374281  0.10806715  0.11210842  0.14537172\n",
      "  0.18347274  0.18926267  0.14722463  0.07877909  0.0242795   0.00901626]\n",
      "[INFO] Forecasting Results \n",
      "\t Precision:\t 1.0\n",
      "\t Recall:\t 1.0\n",
      "\t F1 Score:\t 1.0\n",
      "[INFO] Classification Results \n",
      "\t Precision:\t 1.0\n",
      "\t Recall:\t 1.0\n",
      "\t F1 Score:\t 1.0\n",
      "[INFO] Ensemble Results \n",
      "\t Precision:\t 1.0\n",
      "\t Recall:\t 1.0\n",
      "\t F1 Score:\t 1.0\n"
     ]
    }
   ],
   "source": [
    "tr, te = pr.split(df[df.index.get_level_values('device') == 7])\n",
    "validate(tr, te)"
   ]
  },
  {
   "cell_type": "code",
   "execution_count": null,
   "metadata": {},
   "outputs": [],
   "source": []
  }
 ],
 "metadata": {
  "kernelspec": {
   "display_name": "opc",
   "language": "python",
   "name": "opc"
  },
  "language_info": {
   "codemirror_mode": {
    "name": "ipython",
    "version": 3
   },
   "file_extension": ".py",
   "mimetype": "text/x-python",
   "name": "python",
   "nbconvert_exporter": "python",
   "pygments_lexer": "ipython3",
   "version": "3.6.6"
  }
 },
 "nbformat": 4,
 "nbformat_minor": 2
}
