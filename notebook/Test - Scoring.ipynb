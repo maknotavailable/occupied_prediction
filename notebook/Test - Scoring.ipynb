{
 "cells": [
  {
   "cell_type": "markdown",
   "metadata": {},
   "source": [
    "# [Room Occupancy] Testing\n",
    "\n",
    "Simple testing notebook, to run the scoring orchestration.\n"
   ]
  },
  {
   "cell_type": "code",
   "execution_count": 1,
   "metadata": {},
   "outputs": [
    {
     "name": "stderr",
     "output_type": "stream",
     "text": [
      "ERROR:fbprophet:Importing plotly failed. Interactive plots will not work.\n"
     ]
    }
   ],
   "source": [
    "import sys\n",
    "import pandas as pd\n",
    "\n",
    "sys.path.append('../code')\n",
    "import score as sc\n",
    "import prepare as pr\n",
    "\n",
    "import warnings\n",
    "warnings.filterwarnings(\"ignore\", category=FutureWarning)"
   ]
  },
  {
   "cell_type": "code",
   "execution_count": 2,
   "metadata": {},
   "outputs": [],
   "source": [
    "%load_ext autoreload\n",
    "%autoreload 2"
   ]
  },
  {
   "cell_type": "code",
   "execution_count": 3,
   "metadata": {},
   "outputs": [],
   "source": [
    "data_dir = 'C:/Users/makayser/Desktop/wattx_local/'\n",
    "fn_activations = 'device_activations.csv'"
   ]
  },
  {
   "cell_type": "code",
   "execution_count": 4,
   "metadata": {},
   "outputs": [],
   "source": [
    "df = pd.read_csv(data_dir + fn_activations, parse_dates=True)"
   ]
  },
  {
   "cell_type": "code",
   "execution_count": 5,
   "metadata": {
    "scrolled": false
   },
   "outputs": [
    {
     "name": "stdout",
     "output_type": "stream",
     "text": [
      "[INFO] Device 6 length 2134\n",
      "[INFO] Device 2 length 2930\n",
      "\t[ERROR] Device 2 contains 54 duplicates.\n",
      "[INFO] Device 4 length 901\n",
      "[INFO] Device 3 length 741\n",
      "[INFO] Device 5 length 1256\n",
      "[INFO] Device 7 length 161\n",
      "[INFO] Device 1 length 922\n",
      "[INFO] Not enough close by historical data points for forecasting.\n",
      "Wall time: 40.7 s\n"
     ]
    }
   ],
   "source": [
    "%%time\n",
    "res = sc.predict_future_activation('2016-08-31 23:59:59',df)"
   ]
  },
  {
   "cell_type": "code",
   "execution_count": 6,
   "metadata": {},
   "outputs": [
    {
     "data": {
      "text/html": [
       "<div>\n",
       "<style scoped>\n",
       "    .dataframe tbody tr th:only-of-type {\n",
       "        vertical-align: middle;\n",
       "    }\n",
       "\n",
       "    .dataframe tbody tr th {\n",
       "        vertical-align: top;\n",
       "    }\n",
       "\n",
       "    .dataframe thead th {\n",
       "        text-align: right;\n",
       "    }\n",
       "</style>\n",
       "<table border=\"1\" class=\"dataframe\">\n",
       "  <thead>\n",
       "    <tr style=\"text-align: right;\">\n",
       "      <th></th>\n",
       "      <th>device</th>\n",
       "      <th>activation_predicted</th>\n",
       "    </tr>\n",
       "    <tr>\n",
       "      <th>time</th>\n",
       "      <th></th>\n",
       "      <th></th>\n",
       "    </tr>\n",
       "  </thead>\n",
       "  <tbody>\n",
       "    <tr>\n",
       "      <th>2016-09-01 00:00:00</th>\n",
       "      <td>device_6</td>\n",
       "      <td>0</td>\n",
       "    </tr>\n",
       "    <tr>\n",
       "      <th>2016-09-01 01:00:00</th>\n",
       "      <td>device_6</td>\n",
       "      <td>0</td>\n",
       "    </tr>\n",
       "    <tr>\n",
       "      <th>2016-09-01 02:00:00</th>\n",
       "      <td>device_6</td>\n",
       "      <td>0</td>\n",
       "    </tr>\n",
       "    <tr>\n",
       "      <th>2016-09-01 03:00:00</th>\n",
       "      <td>device_6</td>\n",
       "      <td>0</td>\n",
       "    </tr>\n",
       "    <tr>\n",
       "      <th>2016-09-01 04:00:00</th>\n",
       "      <td>device_6</td>\n",
       "      <td>0</td>\n",
       "    </tr>\n",
       "    <tr>\n",
       "      <th>2016-09-01 05:00:00</th>\n",
       "      <td>device_6</td>\n",
       "      <td>0</td>\n",
       "    </tr>\n",
       "    <tr>\n",
       "      <th>2016-09-01 06:00:00</th>\n",
       "      <td>device_6</td>\n",
       "      <td>0</td>\n",
       "    </tr>\n",
       "    <tr>\n",
       "      <th>2016-09-01 07:00:00</th>\n",
       "      <td>device_6</td>\n",
       "      <td>1</td>\n",
       "    </tr>\n",
       "    <tr>\n",
       "      <th>2016-09-01 08:00:00</th>\n",
       "      <td>device_6</td>\n",
       "      <td>1</td>\n",
       "    </tr>\n",
       "    <tr>\n",
       "      <th>2016-09-01 09:00:00</th>\n",
       "      <td>device_6</td>\n",
       "      <td>1</td>\n",
       "    </tr>\n",
       "    <tr>\n",
       "      <th>2016-09-01 10:00:00</th>\n",
       "      <td>device_6</td>\n",
       "      <td>1</td>\n",
       "    </tr>\n",
       "    <tr>\n",
       "      <th>2016-09-01 11:00:00</th>\n",
       "      <td>device_6</td>\n",
       "      <td>1</td>\n",
       "    </tr>\n",
       "    <tr>\n",
       "      <th>2016-09-01 12:00:00</th>\n",
       "      <td>device_6</td>\n",
       "      <td>1</td>\n",
       "    </tr>\n",
       "    <tr>\n",
       "      <th>2016-09-01 13:00:00</th>\n",
       "      <td>device_6</td>\n",
       "      <td>1</td>\n",
       "    </tr>\n",
       "    <tr>\n",
       "      <th>2016-09-01 14:00:00</th>\n",
       "      <td>device_6</td>\n",
       "      <td>1</td>\n",
       "    </tr>\n",
       "    <tr>\n",
       "      <th>2016-09-01 15:00:00</th>\n",
       "      <td>device_6</td>\n",
       "      <td>1</td>\n",
       "    </tr>\n",
       "    <tr>\n",
       "      <th>2016-09-01 16:00:00</th>\n",
       "      <td>device_6</td>\n",
       "      <td>1</td>\n",
       "    </tr>\n",
       "    <tr>\n",
       "      <th>2016-09-01 17:00:00</th>\n",
       "      <td>device_6</td>\n",
       "      <td>1</td>\n",
       "    </tr>\n",
       "    <tr>\n",
       "      <th>2016-09-01 18:00:00</th>\n",
       "      <td>device_6</td>\n",
       "      <td>1</td>\n",
       "    </tr>\n",
       "    <tr>\n",
       "      <th>2016-09-01 19:00:00</th>\n",
       "      <td>device_6</td>\n",
       "      <td>1</td>\n",
       "    </tr>\n",
       "  </tbody>\n",
       "</table>\n",
       "</div>"
      ],
      "text/plain": [
       "                       device  activation_predicted\n",
       "time                                               \n",
       "2016-09-01 00:00:00  device_6                     0\n",
       "2016-09-01 01:00:00  device_6                     0\n",
       "2016-09-01 02:00:00  device_6                     0\n",
       "2016-09-01 03:00:00  device_6                     0\n",
       "2016-09-01 04:00:00  device_6                     0\n",
       "2016-09-01 05:00:00  device_6                     0\n",
       "2016-09-01 06:00:00  device_6                     0\n",
       "2016-09-01 07:00:00  device_6                     1\n",
       "2016-09-01 08:00:00  device_6                     1\n",
       "2016-09-01 09:00:00  device_6                     1\n",
       "2016-09-01 10:00:00  device_6                     1\n",
       "2016-09-01 11:00:00  device_6                     1\n",
       "2016-09-01 12:00:00  device_6                     1\n",
       "2016-09-01 13:00:00  device_6                     1\n",
       "2016-09-01 14:00:00  device_6                     1\n",
       "2016-09-01 15:00:00  device_6                     1\n",
       "2016-09-01 16:00:00  device_6                     1\n",
       "2016-09-01 17:00:00  device_6                     1\n",
       "2016-09-01 18:00:00  device_6                     1\n",
       "2016-09-01 19:00:00  device_6                     1"
      ]
     },
     "execution_count": 6,
     "metadata": {},
     "output_type": "execute_result"
    }
   ],
   "source": [
    "res.head(20)"
   ]
  },
  {
   "cell_type": "code",
   "execution_count": null,
   "metadata": {},
   "outputs": [],
   "source": []
  }
 ],
 "metadata": {
  "kernelspec": {
   "display_name": "opc",
   "language": "python",
   "name": "opc"
  },
  "language_info": {
   "codemirror_mode": {
    "name": "ipython",
    "version": 3
   },
   "file_extension": ".py",
   "mimetype": "text/x-python",
   "name": "python",
   "nbconvert_exporter": "python",
   "pygments_lexer": "ipython3",
   "version": "3.6.6"
  }
 },
 "nbformat": 4,
 "nbformat_minor": 2
}
