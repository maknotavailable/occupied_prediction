{
 "cells": [
  {
   "cell_type": "markdown",
   "metadata": {},
   "source": [
    "# [Room Occupancy] Classification\n"
   ]
  },
  {
   "cell_type": "markdown",
   "metadata": {},
   "source": [
    "### Prepare Workspace"
   ]
  },
  {
   "cell_type": "code",
   "execution_count": 1,
   "metadata": {},
   "outputs": [],
   "source": [
    "import sys\n",
    "import pickle\n",
    "import pandas as pd\n",
    "import numpy as np\n",
    "import matplotlib.pyplot as plt\n",
    "\n",
    "import xgboost as xgb\n",
    "from xgboost.sklearn import XGBClassifier\n",
    "from sklearn.model_selection import GridSearchCV  \n",
    "from sklearn.model_selection import train_test_split\n",
    "import sklearn.metrics as metrics\n",
    "from sklearn.metrics import precision_recall_fscore_support\n",
    "\n",
    "import warnings\n",
    "warnings.filterwarnings(\"ignore\", category=FutureWarning)\n",
    "\n",
    "sys.path.append('../code')\n",
    "import prepare as pr"
   ]
  },
  {
   "cell_type": "code",
   "execution_count": 2,
   "metadata": {},
   "outputs": [],
   "source": [
    "%matplotlib inline\n",
    "%load_ext autoreload\n",
    "%autoreload 2"
   ]
  },
  {
   "cell_type": "code",
   "execution_count": 3,
   "metadata": {},
   "outputs": [],
   "source": [
    "data_dir = 'C:/Users/makayser/Desktop/wattx_local/'\n",
    "fn_prepared = 'prepared.csv'"
   ]
  },
  {
   "cell_type": "markdown",
   "metadata": {},
   "source": [
    "### Prepare Data"
   ]
  },
  {
   "cell_type": "code",
   "execution_count": 4,
   "metadata": {},
   "outputs": [],
   "source": [
    "df = pd.read_csv(data_dir + fn_prepared)\n",
    "df['timestamp'] = pd.to_datetime(df['timestamp'])\n",
    "tuples = list(zip(df['device'],df['timestamp']))\n",
    "df.index = pd.MultiIndex.from_tuples(tuples, names=['device', 'timestamp'])"
   ]
  },
  {
   "cell_type": "code",
   "execution_count": 5,
   "metadata": {},
   "outputs": [
    {
     "data": {
      "text/plain": [
       "device                       int64\n",
       "timestamp           datetime64[ns]\n",
       "device.1                     int64\n",
       "device_activated             int64\n",
       "timestamp.1                 object\n",
       "occupied                     int64\n",
       "weekday                      int64\n",
       "timeperiod                   int64\n",
       "time                        object\n",
       "dtype: object"
      ]
     },
     "execution_count": 5,
     "metadata": {},
     "output_type": "execute_result"
    }
   ],
   "source": [
    "df.dtypes"
   ]
  },
  {
   "cell_type": "markdown",
   "metadata": {},
   "source": [
    "## Multivariate Classification"
   ]
  },
  {
   "cell_type": "markdown",
   "metadata": {},
   "source": [
    "### Prepare Data"
   ]
  },
  {
   "cell_type": "code",
   "execution_count": 6,
   "metadata": {},
   "outputs": [],
   "source": [
    "df_c = pd.read_csv(data_dir + fn_prepared)\n",
    "df_c['timestamp'] = pd.to_datetime(df_c['timestamp'])\n",
    "df_c = df_c[['occupied','device','weekday','timeperiod']]"
   ]
  },
  {
   "cell_type": "code",
   "execution_count": 7,
   "metadata": {},
   "outputs": [],
   "source": [
    "# split data into X and y\n",
    "X, Y = df_c[['device','weekday','timeperiod']], df_c['occupied']\n",
    "# split data into train and test sets\n",
    "seed = 7\n",
    "test_size = 0.3\n",
    "X_train, X_test, y_train, y_test = train_test_split(X, Y, test_size=test_size, random_state=seed)"
   ]
  },
  {
   "cell_type": "markdown",
   "metadata": {},
   "source": [
    "### Prepare Hyperparameter Tuning"
   ]
  },
  {
   "cell_type": "markdown",
   "metadata": {},
   "source": [
    "### Run Tests"
   ]
  },
  {
   "cell_type": "code",
   "execution_count": 8,
   "metadata": {},
   "outputs": [],
   "source": [
    "def modelfit(alg, dtrain, predictors,useTrainCV=True, cv_folds=5, early_stopping_rounds=50):\n",
    "    \n",
    "    if useTrainCV:\n",
    "        xgb_param = alg.get_xgb_params()\n",
    "        xgtrain = xgb.DMatrix(dtrain[predictors].values, label=dtrain[target].values)\n",
    "        cvresult = xgb.cv(xgb_param, xgtrain, num_boost_round=alg.get_params()['n_estimators'], nfold=cv_folds,\n",
    "            metrics='auc', early_stopping_rounds=early_stopping_rounds)\n",
    "        alg.set_params(n_estimators=cvresult.shape[0])\n",
    "    \n",
    "    #Fit the algorithm on the data\n",
    "    alg.fit(dtrain[predictors], dtrain['occupied'],eval_metric='auc')\n",
    "        \n",
    "    #Predict training set:\n",
    "    dtrain_predictions = alg.predict(dtrain[predictors])\n",
    "    dtrain_predprob = alg.predict_proba(dtrain[predictors])[:,1]\n",
    "        \n",
    "    #Print model report:\n",
    "    print(\"\\nModel Report\")\n",
    "    print(\"Accuracy : %.4g\" % metrics.accuracy_score(dtrain['occupied'].values, dtrain_predictions))\n",
    "    print(\"AUC Score (Train): %f\" % metrics.roc_auc_score(dtrain['occupied'], dtrain_predprob))"
   ]
  },
  {
   "cell_type": "code",
   "execution_count": 9,
   "metadata": {},
   "outputs": [
    {
     "name": "stderr",
     "output_type": "stream",
     "text": [
      "C:\\Users\\makayser\\.conda\\envs\\opc\\lib\\site-packages\\ipykernel_launcher.py:2: SettingWithCopyWarning: \n",
      "A value is trying to be set on a copy of a slice from a DataFrame.\n",
      "Try using .loc[row_indexer,col_indexer] = value instead\n",
      "\n",
      "See the caveats in the documentation: http://pandas.pydata.org/pandas-docs/stable/indexing.html#indexing-view-versus-copy\n",
      "  \n"
     ]
    }
   ],
   "source": [
    "target = 'occupied'\n",
    "X_train['occupied'] = y_train\n",
    "predictors = [x for x in X_train.columns if x not in [target]]"
   ]
  },
  {
   "cell_type": "code",
   "execution_count": 10,
   "metadata": {},
   "outputs": [
    {
     "name": "stdout",
     "output_type": "stream",
     "text": [
      "\n",
      "Model Report\n",
      "Accuracy : 0.8885\n",
      "AUC Score (Train): 0.944900\n"
     ]
    }
   ],
   "source": [
    "xgb1 = XGBClassifier(\n",
    " learning_rate =0.1,\n",
    " n_estimators=1000,\n",
    " max_depth=5,\n",
    " min_child_weight=1,\n",
    " gamma=0,\n",
    " subsample=0.8,\n",
    " colsample_bytree=0.8,\n",
    " objective= 'binary:logistic',\n",
    " nthread=4,\n",
    " scale_pos_weight=1,\n",
    " seed=27)\n",
    "modelfit(xgb1, X_train, predictors)"
   ]
  },
  {
   "cell_type": "markdown",
   "metadata": {},
   "source": [
    "### TEST 1  - max depth, min child weight"
   ]
  },
  {
   "cell_type": "code",
   "execution_count": 11,
   "metadata": {},
   "outputs": [
    {
     "data": {
      "text/plain": [
       "GridSearchCV(cv=5, error_score='raise-deprecating',\n",
       "             estimator=XGBClassifier(base_score=0.5, booster='gbtree',\n",
       "                                     colsample_bylevel=1, colsample_bynode=1,\n",
       "                                     colsample_bytree=0.8, gamma=0,\n",
       "                                     learning_rate=0.1, max_delta_step=0,\n",
       "                                     max_depth=5, min_child_weight=1,\n",
       "                                     missing=None, n_estimators=140, n_jobs=1,\n",
       "                                     nthread=4, objective='binary:logistic',\n",
       "                                     random_state=0, reg_alpha=0, reg_lambda=1,\n",
       "                                     scale_pos_weight=1, seed=27, silent=None,\n",
       "                                     subsample=0.8, verbosity=1),\n",
       "             iid=False, n_jobs=4,\n",
       "             param_grid={'max_depth': range(3, 10, 2),\n",
       "                         'min_child_weight': range(1, 6, 2)},\n",
       "             pre_dispatch='2*n_jobs', refit=True, return_train_score=False,\n",
       "             scoring='roc_auc', verbose=0)"
      ]
     },
     "execution_count": 11,
     "metadata": {},
     "output_type": "execute_result"
    }
   ],
   "source": [
    "param_test1 = {\n",
    " 'max_depth':range(3,10,2),\n",
    " 'min_child_weight':range(1,6,2)\n",
    "}\n",
    "gsearch1 = GridSearchCV(estimator = XGBClassifier( learning_rate =0.1, n_estimators=140, max_depth=5,\n",
    " min_child_weight=1, gamma=0, subsample=0.8, colsample_bytree=0.8,\n",
    " objective= 'binary:logistic', nthread=4, scale_pos_weight=1, seed=27), \n",
    " param_grid = param_test1, scoring='roc_auc',n_jobs=4,iid=False, cv=5)\n",
    "gsearch1.fit(X_train[predictors],X_train[target])"
   ]
  },
  {
   "cell_type": "code",
   "execution_count": 12,
   "metadata": {},
   "outputs": [
    {
     "data": {
      "text/html": [
       "<div>\n",
       "<style scoped>\n",
       "    .dataframe tbody tr th:only-of-type {\n",
       "        vertical-align: middle;\n",
       "    }\n",
       "\n",
       "    .dataframe tbody tr th {\n",
       "        vertical-align: top;\n",
       "    }\n",
       "\n",
       "    .dataframe thead th {\n",
       "        text-align: right;\n",
       "    }\n",
       "</style>\n",
       "<table border=\"1\" class=\"dataframe\">\n",
       "  <thead>\n",
       "    <tr style=\"text-align: right;\">\n",
       "      <th></th>\n",
       "      <th>mean_fit_time</th>\n",
       "      <th>std_fit_time</th>\n",
       "      <th>mean_score_time</th>\n",
       "      <th>std_score_time</th>\n",
       "      <th>param_max_depth</th>\n",
       "      <th>param_min_child_weight</th>\n",
       "      <th>params</th>\n",
       "      <th>split0_test_score</th>\n",
       "      <th>split1_test_score</th>\n",
       "      <th>split2_test_score</th>\n",
       "      <th>split3_test_score</th>\n",
       "      <th>split4_test_score</th>\n",
       "      <th>mean_test_score</th>\n",
       "      <th>std_test_score</th>\n",
       "      <th>rank_test_score</th>\n",
       "    </tr>\n",
       "  </thead>\n",
       "  <tbody>\n",
       "    <tr>\n",
       "      <th>0</th>\n",
       "      <td>1.620729</td>\n",
       "      <td>0.447111</td>\n",
       "      <td>0.010602</td>\n",
       "      <td>0.001744</td>\n",
       "      <td>3</td>\n",
       "      <td>1</td>\n",
       "      <td>{'max_depth': 3, 'min_child_weight': 1}</td>\n",
       "      <td>0.947998</td>\n",
       "      <td>0.936374</td>\n",
       "      <td>0.932520</td>\n",
       "      <td>0.950380</td>\n",
       "      <td>0.935567</td>\n",
       "      <td>0.940568</td>\n",
       "      <td>0.007195</td>\n",
       "      <td>1</td>\n",
       "    </tr>\n",
       "    <tr>\n",
       "      <th>1</th>\n",
       "      <td>0.703922</td>\n",
       "      <td>0.007831</td>\n",
       "      <td>0.008003</td>\n",
       "      <td>0.001547</td>\n",
       "      <td>3</td>\n",
       "      <td>3</td>\n",
       "      <td>{'max_depth': 3, 'min_child_weight': 3}</td>\n",
       "      <td>0.948137</td>\n",
       "      <td>0.936059</td>\n",
       "      <td>0.932913</td>\n",
       "      <td>0.949583</td>\n",
       "      <td>0.934729</td>\n",
       "      <td>0.940284</td>\n",
       "      <td>0.007088</td>\n",
       "      <td>2</td>\n",
       "    </tr>\n",
       "    <tr>\n",
       "      <th>2</th>\n",
       "      <td>0.694818</td>\n",
       "      <td>0.004066</td>\n",
       "      <td>0.010001</td>\n",
       "      <td>0.001675</td>\n",
       "      <td>3</td>\n",
       "      <td>5</td>\n",
       "      <td>{'max_depth': 3, 'min_child_weight': 5}</td>\n",
       "      <td>0.947672</td>\n",
       "      <td>0.936160</td>\n",
       "      <td>0.932462</td>\n",
       "      <td>0.949242</td>\n",
       "      <td>0.934113</td>\n",
       "      <td>0.939930</td>\n",
       "      <td>0.007078</td>\n",
       "      <td>3</td>\n",
       "    </tr>\n",
       "    <tr>\n",
       "      <th>3</th>\n",
       "      <td>0.909399</td>\n",
       "      <td>0.037882</td>\n",
       "      <td>0.011205</td>\n",
       "      <td>0.002483</td>\n",
       "      <td>5</td>\n",
       "      <td>1</td>\n",
       "      <td>{'max_depth': 5, 'min_child_weight': 1}</td>\n",
       "      <td>0.948248</td>\n",
       "      <td>0.934435</td>\n",
       "      <td>0.932656</td>\n",
       "      <td>0.948858</td>\n",
       "      <td>0.935438</td>\n",
       "      <td>0.939927</td>\n",
       "      <td>0.007102</td>\n",
       "      <td>4</td>\n",
       "    </tr>\n",
       "    <tr>\n",
       "      <th>4</th>\n",
       "      <td>1.002194</td>\n",
       "      <td>0.060439</td>\n",
       "      <td>0.010201</td>\n",
       "      <td>0.001328</td>\n",
       "      <td>5</td>\n",
       "      <td>3</td>\n",
       "      <td>{'max_depth': 5, 'min_child_weight': 3}</td>\n",
       "      <td>0.948445</td>\n",
       "      <td>0.933832</td>\n",
       "      <td>0.931723</td>\n",
       "      <td>0.948613</td>\n",
       "      <td>0.934474</td>\n",
       "      <td>0.939417</td>\n",
       "      <td>0.007495</td>\n",
       "      <td>5</td>\n",
       "    </tr>\n",
       "    <tr>\n",
       "      <th>5</th>\n",
       "      <td>0.885601</td>\n",
       "      <td>0.016060</td>\n",
       "      <td>0.008800</td>\n",
       "      <td>0.001165</td>\n",
       "      <td>5</td>\n",
       "      <td>5</td>\n",
       "      <td>{'max_depth': 5, 'min_child_weight': 5}</td>\n",
       "      <td>0.947848</td>\n",
       "      <td>0.935238</td>\n",
       "      <td>0.931896</td>\n",
       "      <td>0.948541</td>\n",
       "      <td>0.933003</td>\n",
       "      <td>0.939305</td>\n",
       "      <td>0.007341</td>\n",
       "      <td>6</td>\n",
       "    </tr>\n",
       "    <tr>\n",
       "      <th>6</th>\n",
       "      <td>1.114507</td>\n",
       "      <td>0.005775</td>\n",
       "      <td>0.009403</td>\n",
       "      <td>0.001017</td>\n",
       "      <td>7</td>\n",
       "      <td>1</td>\n",
       "      <td>{'max_depth': 7, 'min_child_weight': 1}</td>\n",
       "      <td>0.948035</td>\n",
       "      <td>0.933069</td>\n",
       "      <td>0.931848</td>\n",
       "      <td>0.948531</td>\n",
       "      <td>0.934947</td>\n",
       "      <td>0.939286</td>\n",
       "      <td>0.007414</td>\n",
       "      <td>7</td>\n",
       "    </tr>\n",
       "    <tr>\n",
       "      <th>7</th>\n",
       "      <td>1.096103</td>\n",
       "      <td>0.010923</td>\n",
       "      <td>0.009403</td>\n",
       "      <td>0.001018</td>\n",
       "      <td>7</td>\n",
       "      <td>3</td>\n",
       "      <td>{'max_depth': 7, 'min_child_weight': 3}</td>\n",
       "      <td>0.948048</td>\n",
       "      <td>0.933215</td>\n",
       "      <td>0.931122</td>\n",
       "      <td>0.948401</td>\n",
       "      <td>0.933609</td>\n",
       "      <td>0.938879</td>\n",
       "      <td>0.007678</td>\n",
       "      <td>9</td>\n",
       "    </tr>\n",
       "    <tr>\n",
       "      <th>8</th>\n",
       "      <td>1.048767</td>\n",
       "      <td>0.013300</td>\n",
       "      <td>0.008800</td>\n",
       "      <td>0.000400</td>\n",
       "      <td>7</td>\n",
       "      <td>5</td>\n",
       "      <td>{'max_depth': 7, 'min_child_weight': 5}</td>\n",
       "      <td>0.947652</td>\n",
       "      <td>0.934971</td>\n",
       "      <td>0.930708</td>\n",
       "      <td>0.947921</td>\n",
       "      <td>0.932186</td>\n",
       "      <td>0.938688</td>\n",
       "      <td>0.007555</td>\n",
       "      <td>11</td>\n",
       "    </tr>\n",
       "    <tr>\n",
       "      <th>9</th>\n",
       "      <td>1.194831</td>\n",
       "      <td>0.015187</td>\n",
       "      <td>0.009203</td>\n",
       "      <td>0.000979</td>\n",
       "      <td>9</td>\n",
       "      <td>1</td>\n",
       "      <td>{'max_depth': 9, 'min_child_weight': 1}</td>\n",
       "      <td>0.947720</td>\n",
       "      <td>0.932907</td>\n",
       "      <td>0.931678</td>\n",
       "      <td>0.948408</td>\n",
       "      <td>0.934511</td>\n",
       "      <td>0.939045</td>\n",
       "      <td>0.007422</td>\n",
       "      <td>8</td>\n",
       "    </tr>\n",
       "    <tr>\n",
       "      <th>10</th>\n",
       "      <td>1.196417</td>\n",
       "      <td>0.012591</td>\n",
       "      <td>0.011001</td>\n",
       "      <td>0.001673</td>\n",
       "      <td>9</td>\n",
       "      <td>3</td>\n",
       "      <td>{'max_depth': 9, 'min_child_weight': 3}</td>\n",
       "      <td>0.947998</td>\n",
       "      <td>0.933201</td>\n",
       "      <td>0.930874</td>\n",
       "      <td>0.948115</td>\n",
       "      <td>0.933466</td>\n",
       "      <td>0.938731</td>\n",
       "      <td>0.007668</td>\n",
       "      <td>10</td>\n",
       "    </tr>\n",
       "    <tr>\n",
       "      <th>11</th>\n",
       "      <td>1.079420</td>\n",
       "      <td>0.100967</td>\n",
       "      <td>0.010803</td>\n",
       "      <td>0.001328</td>\n",
       "      <td>9</td>\n",
       "      <td>5</td>\n",
       "      <td>{'max_depth': 9, 'min_child_weight': 5}</td>\n",
       "      <td>0.947642</td>\n",
       "      <td>0.934883</td>\n",
       "      <td>0.930637</td>\n",
       "      <td>0.948027</td>\n",
       "      <td>0.931985</td>\n",
       "      <td>0.938635</td>\n",
       "      <td>0.007637</td>\n",
       "      <td>12</td>\n",
       "    </tr>\n",
       "  </tbody>\n",
       "</table>\n",
       "</div>"
      ],
      "text/plain": [
       "    mean_fit_time  std_fit_time  mean_score_time  std_score_time  \\\n",
       "0        1.620729      0.447111         0.010602        0.001744   \n",
       "1        0.703922      0.007831         0.008003        0.001547   \n",
       "2        0.694818      0.004066         0.010001        0.001675   \n",
       "3        0.909399      0.037882         0.011205        0.002483   \n",
       "4        1.002194      0.060439         0.010201        0.001328   \n",
       "5        0.885601      0.016060         0.008800        0.001165   \n",
       "6        1.114507      0.005775         0.009403        0.001017   \n",
       "7        1.096103      0.010923         0.009403        0.001018   \n",
       "8        1.048767      0.013300         0.008800        0.000400   \n",
       "9        1.194831      0.015187         0.009203        0.000979   \n",
       "10       1.196417      0.012591         0.011001        0.001673   \n",
       "11       1.079420      0.100967         0.010803        0.001328   \n",
       "\n",
       "   param_max_depth param_min_child_weight  \\\n",
       "0                3                      1   \n",
       "1                3                      3   \n",
       "2                3                      5   \n",
       "3                5                      1   \n",
       "4                5                      3   \n",
       "5                5                      5   \n",
       "6                7                      1   \n",
       "7                7                      3   \n",
       "8                7                      5   \n",
       "9                9                      1   \n",
       "10               9                      3   \n",
       "11               9                      5   \n",
       "\n",
       "                                     params  split0_test_score  \\\n",
       "0   {'max_depth': 3, 'min_child_weight': 1}           0.947998   \n",
       "1   {'max_depth': 3, 'min_child_weight': 3}           0.948137   \n",
       "2   {'max_depth': 3, 'min_child_weight': 5}           0.947672   \n",
       "3   {'max_depth': 5, 'min_child_weight': 1}           0.948248   \n",
       "4   {'max_depth': 5, 'min_child_weight': 3}           0.948445   \n",
       "5   {'max_depth': 5, 'min_child_weight': 5}           0.947848   \n",
       "6   {'max_depth': 7, 'min_child_weight': 1}           0.948035   \n",
       "7   {'max_depth': 7, 'min_child_weight': 3}           0.948048   \n",
       "8   {'max_depth': 7, 'min_child_weight': 5}           0.947652   \n",
       "9   {'max_depth': 9, 'min_child_weight': 1}           0.947720   \n",
       "10  {'max_depth': 9, 'min_child_weight': 3}           0.947998   \n",
       "11  {'max_depth': 9, 'min_child_weight': 5}           0.947642   \n",
       "\n",
       "    split1_test_score  split2_test_score  split3_test_score  \\\n",
       "0            0.936374           0.932520           0.950380   \n",
       "1            0.936059           0.932913           0.949583   \n",
       "2            0.936160           0.932462           0.949242   \n",
       "3            0.934435           0.932656           0.948858   \n",
       "4            0.933832           0.931723           0.948613   \n",
       "5            0.935238           0.931896           0.948541   \n",
       "6            0.933069           0.931848           0.948531   \n",
       "7            0.933215           0.931122           0.948401   \n",
       "8            0.934971           0.930708           0.947921   \n",
       "9            0.932907           0.931678           0.948408   \n",
       "10           0.933201           0.930874           0.948115   \n",
       "11           0.934883           0.930637           0.948027   \n",
       "\n",
       "    split4_test_score  mean_test_score  std_test_score  rank_test_score  \n",
       "0            0.935567         0.940568        0.007195                1  \n",
       "1            0.934729         0.940284        0.007088                2  \n",
       "2            0.934113         0.939930        0.007078                3  \n",
       "3            0.935438         0.939927        0.007102                4  \n",
       "4            0.934474         0.939417        0.007495                5  \n",
       "5            0.933003         0.939305        0.007341                6  \n",
       "6            0.934947         0.939286        0.007414                7  \n",
       "7            0.933609         0.938879        0.007678                9  \n",
       "8            0.932186         0.938688        0.007555               11  \n",
       "9            0.934511         0.939045        0.007422                8  \n",
       "10           0.933466         0.938731        0.007668               10  \n",
       "11           0.931985         0.938635        0.007637               12  "
      ]
     },
     "execution_count": 12,
     "metadata": {},
     "output_type": "execute_result"
    }
   ],
   "source": [
    "pd.DataFrame(gsearch1.cv_results_)"
   ]
  },
  {
   "cell_type": "code",
   "execution_count": 13,
   "metadata": {},
   "outputs": [
    {
     "data": {
      "text/plain": [
       "(0.940567567971845, {'max_depth': 3, 'min_child_weight': 1})"
      ]
     },
     "execution_count": 13,
     "metadata": {},
     "output_type": "execute_result"
    }
   ],
   "source": [
    "gsearch1.best_score_, gsearch1.best_params_ "
   ]
  },
  {
   "cell_type": "markdown",
   "metadata": {},
   "source": [
    "### TEST 2 - gamma"
   ]
  },
  {
   "cell_type": "code",
   "execution_count": 14,
   "metadata": {},
   "outputs": [
    {
     "data": {
      "text/plain": [
       "GridSearchCV(cv=5, error_score='raise-deprecating',\n",
       "             estimator=XGBClassifier(base_score=0.5, booster='gbtree',\n",
       "                                     colsample_bylevel=1, colsample_bynode=1,\n",
       "                                     colsample_bytree=0.8, gamma=0,\n",
       "                                     learning_rate=0.1, max_delta_step=0,\n",
       "                                     max_depth=3, min_child_weight=1,\n",
       "                                     missing=None, n_estimators=140, n_jobs=1,\n",
       "                                     nthread=4, objective='binary:logistic',\n",
       "                                     random_state=0, reg_alpha=0, reg_lambda=1,\n",
       "                                     scale_pos_weight=1, seed=27, silent=None,\n",
       "                                     subsample=0.8, verbosity=1),\n",
       "             iid=False, n_jobs=4,\n",
       "             param_grid={'gamma': [0.0, 0.1, 0.2, 0.3, 0.4]},\n",
       "             pre_dispatch='2*n_jobs', refit=True, return_train_score=False,\n",
       "             scoring='roc_auc', verbose=0)"
      ]
     },
     "execution_count": 14,
     "metadata": {},
     "output_type": "execute_result"
    }
   ],
   "source": [
    "param_test2 = {\n",
    " 'gamma':[i/10.0 for i in range(0,5)]\n",
    "}\n",
    "gsearch2 = GridSearchCV(estimator = XGBClassifier( learning_rate =0.1, n_estimators=140, max_depth=3,\n",
    " min_child_weight=1, gamma=0, subsample=0.8, colsample_bytree=0.8,\n",
    " objective= 'binary:logistic', nthread=4, scale_pos_weight=1,seed=27), \n",
    " param_grid = param_test2, scoring='roc_auc',n_jobs=4,iid=False, cv=5)\n",
    "gsearch2.fit(X_train[predictors],X_train[target])"
   ]
  },
  {
   "cell_type": "code",
   "execution_count": 15,
   "metadata": {},
   "outputs": [
    {
     "data": {
      "text/plain": [
       "(0.940654853194637, {'gamma': 0.2})"
      ]
     },
     "execution_count": 15,
     "metadata": {},
     "output_type": "execute_result"
    }
   ],
   "source": [
    "gsearch2.best_score_, gsearch2.best_params_ "
   ]
  },
  {
   "cell_type": "markdown",
   "metadata": {},
   "source": [
    "### TEST 3  - subsample, colsamble"
   ]
  },
  {
   "cell_type": "code",
   "execution_count": 16,
   "metadata": {},
   "outputs": [
    {
     "data": {
      "text/plain": [
       "GridSearchCV(cv=5, error_score='raise-deprecating',\n",
       "             estimator=XGBClassifier(base_score=0.5, booster='gbtree',\n",
       "                                     colsample_bylevel=1, colsample_bynode=1,\n",
       "                                     colsample_bytree=0.8, gamma=0.2,\n",
       "                                     learning_rate=0.1, max_delta_step=0,\n",
       "                                     max_depth=3, min_child_weight=1,\n",
       "                                     missing=None, n_estimators=177, n_jobs=1,\n",
       "                                     nthread=4, objective='binary:logistic',\n",
       "                                     random_state=0, reg_alpha=0, reg_lambda=1,\n",
       "                                     scale_pos_weight=1, seed=27, silent=None,\n",
       "                                     subsample=0.8, verbosity=1),\n",
       "             iid=False, n_jobs=4,\n",
       "             param_grid={'colsample_bytree': [0.75, 0.8, 0.85],\n",
       "                         'subsample': [0.75, 0.8, 0.85]},\n",
       "             pre_dispatch='2*n_jobs', refit=True, return_train_score=False,\n",
       "             scoring='roc_auc', verbose=0)"
      ]
     },
     "execution_count": 16,
     "metadata": {},
     "output_type": "execute_result"
    }
   ],
   "source": [
    "param_test3 = {\n",
    " 'subsample':[i/100.0 for i in range(75,90,5)],\n",
    " 'colsample_bytree':[i/100.0 for i in range(75,90,5)]\n",
    "}\n",
    "gsearch3 = GridSearchCV(estimator = XGBClassifier( learning_rate =0.1, n_estimators=177, max_depth=3,\n",
    " min_child_weight=1, gamma=0.2, subsample=0.8, colsample_bytree=0.8,\n",
    " objective= 'binary:logistic', nthread=4, scale_pos_weight=1,seed=27), \n",
    " param_grid = param_test3, scoring='roc_auc',n_jobs=4,iid=False, cv=5)\n",
    "gsearch3.fit(X_train[predictors],X_train[target])"
   ]
  },
  {
   "cell_type": "code",
   "execution_count": 17,
   "metadata": {},
   "outputs": [
    {
     "data": {
      "text/plain": [
       "(0.9406893600357581, {'colsample_bytree': 0.75, 'subsample': 0.75})"
      ]
     },
     "execution_count": 17,
     "metadata": {},
     "output_type": "execute_result"
    }
   ],
   "source": [
    "gsearch3.best_score_, gsearch3.best_params_ "
   ]
  },
  {
   "cell_type": "markdown",
   "metadata": {},
   "source": [
    "### TEST 4 - alpha"
   ]
  },
  {
   "cell_type": "code",
   "execution_count": 18,
   "metadata": {},
   "outputs": [
    {
     "data": {
      "text/plain": [
       "GridSearchCV(cv=5, error_score='raise-deprecating',\n",
       "             estimator=XGBClassifier(base_score=0.5, booster='gbtree',\n",
       "                                     colsample_bylevel=1, colsample_bynode=1,\n",
       "                                     colsample_bytree=0.75, gamma=0.2,\n",
       "                                     learning_rate=0.1, max_delta_step=0,\n",
       "                                     max_depth=3, min_child_weight=1,\n",
       "                                     missing=None, n_estimators=177, n_jobs=1,\n",
       "                                     nthread=4, objective='binary:logistic',\n",
       "                                     random_state=0, reg_alpha=0, reg_lambda=1,\n",
       "                                     scale_pos_weight=1, seed=27, silent=None,\n",
       "                                     subsample=0.75, verbosity=1),\n",
       "             iid=False, n_jobs=4,\n",
       "             param_grid={'reg_alpha': [0, 0.001, 0.005, 0.01, 0.05]},\n",
       "             pre_dispatch='2*n_jobs', refit=True, return_train_score=False,\n",
       "             scoring='roc_auc', verbose=0)"
      ]
     },
     "execution_count": 18,
     "metadata": {},
     "output_type": "execute_result"
    }
   ],
   "source": [
    "param_test4 = {\n",
    " 'reg_alpha':[0, 0.001, 0.005, 0.01, 0.05]\n",
    "}\n",
    "gsearch4 = GridSearchCV(estimator = XGBClassifier( learning_rate =0.1, n_estimators=177, max_depth=3,\n",
    " min_child_weight=1, gamma=0.2, subsample=0.75, colsample_bytree=0.75,\n",
    " objective= 'binary:logistic', nthread=4, scale_pos_weight=1,seed=27), \n",
    " param_grid = param_test4, scoring='roc_auc',n_jobs=4,iid=False, cv=5)\n",
    "gsearch4.fit(X_train[predictors],X_train[target])"
   ]
  },
  {
   "cell_type": "code",
   "execution_count": 19,
   "metadata": {},
   "outputs": [
    {
     "data": {
      "text/plain": [
       "(0.9407037221047648, {'reg_alpha': 0.05})"
      ]
     },
     "execution_count": 19,
     "metadata": {},
     "output_type": "execute_result"
    }
   ],
   "source": [
    "gsearch4.best_score_, gsearch4.best_params_ "
   ]
  },
  {
   "cell_type": "markdown",
   "metadata": {},
   "source": [
    "### TEXT X - Final Test"
   ]
  },
  {
   "cell_type": "code",
   "execution_count": 20,
   "metadata": {},
   "outputs": [
    {
     "name": "stdout",
     "output_type": "stream",
     "text": [
      "\n",
      "Model Report\n",
      "Accuracy : 0.8902\n",
      "AUC Score (Train): 0.945409\n"
     ]
    }
   ],
   "source": [
    "xgb_final = XGBClassifier(\n",
    " learning_rate =0.1,\n",
    " n_estimators=500,\n",
    " max_depth=6,\n",
    " min_child_weight=1,\n",
    " gamma=0.2,\n",
    " subsample=0.75,\n",
    " colsample_bytree=0.75,\n",
    " reg_alpha=0.05,\n",
    " objective= 'binary:logistic',\n",
    " nthread=4,\n",
    " scale_pos_weight=1,\n",
    " seed=27)\n",
    "modelfit(xgb_final, X_train, predictors)"
   ]
  },
  {
   "cell_type": "code",
   "execution_count": 21,
   "metadata": {},
   "outputs": [
    {
     "data": {
      "text/plain": [
       "XGBClassifier(base_score=0.5, booster='gbtree', colsample_bylevel=1,\n",
       "              colsample_bynode=1, colsample_bytree=0.75, gamma=0.2,\n",
       "              learning_rate=0.1, max_delta_step=0, max_depth=6,\n",
       "              min_child_weight=1, missing=None, n_estimators=77, n_jobs=1,\n",
       "              nthread=4, objective='binary:logistic', random_state=0,\n",
       "              reg_alpha=0.05, reg_lambda=1, scale_pos_weight=1, seed=27,\n",
       "              silent=None, subsample=0.75, verbosity=1)"
      ]
     },
     "execution_count": 21,
     "metadata": {},
     "output_type": "execute_result"
    }
   ],
   "source": [
    "xgb_final.fit(X_train[predictors], y_train)"
   ]
  },
  {
   "cell_type": "code",
   "execution_count": 22,
   "metadata": {},
   "outputs": [],
   "source": [
    "# make predictions for test data\n",
    "y_pred = xgb_final.predict(X_test)\n",
    "predictions = [round(value) for value in y_pred]"
   ]
  },
  {
   "cell_type": "code",
   "execution_count": 23,
   "metadata": {},
   "outputs": [
    {
     "name": "stdout",
     "output_type": "stream",
     "text": [
      "Accuracy: 89.24%\n",
      "F1-Score: [0.9321366  0.73993289]\n"
     ]
    }
   ],
   "source": [
    "# evaluate predictions\n",
    "accuracy = metrics.accuracy_score(y_test, predictions)\n",
    "pr, re, fs, _ = precision_recall_fscore_support(y_test, predictions)\n",
    "print(f\"Accuracy: {accuracy:.2%}\")\n",
    "print(f\"F1-Score: {fs}\")"
   ]
  },
  {
   "cell_type": "markdown",
   "metadata": {},
   "source": [
    "### Save Best Performing Model"
   ]
  },
  {
   "cell_type": "code",
   "execution_count": 24,
   "metadata": {},
   "outputs": [],
   "source": [
    "with open('../assets/classify.ml','wb') as fn:\n",
    "    pickle.dump(xgb_final, fn)"
   ]
  }
 ],
 "metadata": {
  "kernelspec": {
   "display_name": "opc",
   "language": "python",
   "name": "opc"
  },
  "language_info": {
   "codemirror_mode": {
    "name": "ipython",
    "version": 3
   },
   "file_extension": ".py",
   "mimetype": "text/x-python",
   "name": "python",
   "nbconvert_exporter": "python",
   "pygments_lexer": "ipython3",
   "version": "3.6.6"
  }
 },
 "nbformat": 4,
 "nbformat_minor": 2
}
